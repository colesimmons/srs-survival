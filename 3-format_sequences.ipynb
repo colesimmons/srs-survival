{
 "cells": [
  {
   "cell_type": "markdown",
   "id": "24549dd9",
   "metadata": {},
   "source": [
    "# Dependencies"
   ]
  },
  {
   "cell_type": "code",
   "execution_count": 1,
   "id": "9620b258",
   "metadata": {},
   "outputs": [],
   "source": [
    "# --- Dependencies ---\n",
    "import numpy as np\n",
    "import os\n",
    "import pandas as pd\n",
    "from sklearn.model_selection import train_test_split\n",
    "from sklearn.utils import resample\n",
    "import pickle"
   ]
  },
  {
   "cell_type": "markdown",
   "id": "4164842d",
   "metadata": {},
   "source": [
    "# Split"
   ]
  },
  {
   "cell_type": "markdown",
   "id": "b4cfff8b",
   "metadata": {},
   "source": [
    "### Load"
   ]
  },
  {
   "cell_type": "code",
   "execution_count": 2,
   "id": "bd9dbb01",
   "metadata": {},
   "outputs": [
    {
     "data": {
      "text/html": [
       "<div>\n",
       "<style scoped>\n",
       "    .dataframe tbody tr th:only-of-type {\n",
       "        vertical-align: middle;\n",
       "    }\n",
       "\n",
       "    .dataframe tbody tr th {\n",
       "        vertical-align: top;\n",
       "    }\n",
       "\n",
       "    .dataframe thead th {\n",
       "        text-align: right;\n",
       "    }\n",
       "</style>\n",
       "<table border=\"1\" class=\"dataframe\">\n",
       "  <thead>\n",
       "    <tr style=\"text-align: right;\">\n",
       "      <th></th>\n",
       "      <th>card_id</th>\n",
       "      <th>was_remembered</th>\n",
       "      <th>answer_score</th>\n",
       "      <th>review_type</th>\n",
       "      <th>time_since_first_review</th>\n",
       "      <th>time_since_prev_review_minmax</th>\n",
       "      <th>time_since_prev_review_standard</th>\n",
       "      <th>time_to_answer</th>\n",
       "    </tr>\n",
       "  </thead>\n",
       "  <tbody>\n",
       "    <tr>\n",
       "      <th>0</th>\n",
       "      <td>1538605201072</td>\n",
       "      <td>1</td>\n",
       "      <td>2</td>\n",
       "      <td>Learn</td>\n",
       "      <td>-0.590727</td>\n",
       "      <td>0.000000</td>\n",
       "      <td>-0.554948</td>\n",
       "      <td>0.903710</td>\n",
       "    </tr>\n",
       "    <tr>\n",
       "      <th>1</th>\n",
       "      <td>1538605201072</td>\n",
       "      <td>1</td>\n",
       "      <td>3</td>\n",
       "      <td>Learn</td>\n",
       "      <td>2.573911</td>\n",
       "      <td>0.142023</td>\n",
       "      <td>6.511450</td>\n",
       "      <td>-0.222998</td>\n",
       "    </tr>\n",
       "    <tr>\n",
       "      <th>2</th>\n",
       "      <td>1538605201072</td>\n",
       "      <td>1</td>\n",
       "      <td>3</td>\n",
       "      <td>Learn</td>\n",
       "      <td>2.575053</td>\n",
       "      <td>0.000051</td>\n",
       "      <td>-0.552399</td>\n",
       "      <td>-0.432999</td>\n",
       "    </tr>\n",
       "    <tr>\n",
       "      <th>3</th>\n",
       "      <td>1538605201072</td>\n",
       "      <td>1</td>\n",
       "      <td>3</td>\n",
       "      <td>Review</td>\n",
       "      <td>3.010807</td>\n",
       "      <td>0.019556</td>\n",
       "      <td>0.418059</td>\n",
       "      <td>-0.357999</td>\n",
       "    </tr>\n",
       "    <tr>\n",
       "      <th>4</th>\n",
       "      <td>1538605201077</td>\n",
       "      <td>1</td>\n",
       "      <td>3</td>\n",
       "      <td>Learn</td>\n",
       "      <td>-0.590727</td>\n",
       "      <td>0.000000</td>\n",
       "      <td>-0.554948</td>\n",
       "      <td>-0.108180</td>\n",
       "    </tr>\n",
       "    <tr>\n",
       "      <th>...</th>\n",
       "      <td>...</td>\n",
       "      <td>...</td>\n",
       "      <td>...</td>\n",
       "      <td>...</td>\n",
       "      <td>...</td>\n",
       "      <td>...</td>\n",
       "      <td>...</td>\n",
       "      <td>...</td>\n",
       "    </tr>\n",
       "    <tr>\n",
       "      <th>70253</th>\n",
       "      <td>1682644975046</td>\n",
       "      <td>1</td>\n",
       "      <td>3</td>\n",
       "      <td>Learn</td>\n",
       "      <td>-0.589338</td>\n",
       "      <td>0.000012</td>\n",
       "      <td>-0.554336</td>\n",
       "      <td>-0.493681</td>\n",
       "    </tr>\n",
       "    <tr>\n",
       "      <th>70254</th>\n",
       "      <td>1682644975046</td>\n",
       "      <td>1</td>\n",
       "      <td>3</td>\n",
       "      <td>Review</td>\n",
       "      <td>-0.432017</td>\n",
       "      <td>0.007060</td>\n",
       "      <td>-0.203664</td>\n",
       "      <td>-0.459045</td>\n",
       "    </tr>\n",
       "    <tr>\n",
       "      <th>70255</th>\n",
       "      <td>1682645064444</td>\n",
       "      <td>1</td>\n",
       "      <td>3</td>\n",
       "      <td>Learn</td>\n",
       "      <td>-0.590727</td>\n",
       "      <td>0.000000</td>\n",
       "      <td>-0.554948</td>\n",
       "      <td>-0.775818</td>\n",
       "    </tr>\n",
       "    <tr>\n",
       "      <th>70256</th>\n",
       "      <td>1682645064444</td>\n",
       "      <td>1</td>\n",
       "      <td>3</td>\n",
       "      <td>Learn</td>\n",
       "      <td>-0.589623</td>\n",
       "      <td>0.000050</td>\n",
       "      <td>-0.552482</td>\n",
       "      <td>-0.620363</td>\n",
       "    </tr>\n",
       "    <tr>\n",
       "      <th>70257</th>\n",
       "      <td>1682645064444</td>\n",
       "      <td>1</td>\n",
       "      <td>3</td>\n",
       "      <td>Review</td>\n",
       "      <td>-0.431958</td>\n",
       "      <td>0.007076</td>\n",
       "      <td>-0.202895</td>\n",
       "      <td>-0.769955</td>\n",
       "    </tr>\n",
       "  </tbody>\n",
       "</table>\n",
       "<p>70258 rows × 8 columns</p>\n",
       "</div>"
      ],
      "text/plain": [
       "             card_id  was_remembered  answer_score review_type  \\\n",
       "0      1538605201072               1             2       Learn   \n",
       "1      1538605201072               1             3       Learn   \n",
       "2      1538605201072               1             3       Learn   \n",
       "3      1538605201072               1             3      Review   \n",
       "4      1538605201077               1             3       Learn   \n",
       "...              ...             ...           ...         ...   \n",
       "70253  1682644975046               1             3       Learn   \n",
       "70254  1682644975046               1             3      Review   \n",
       "70255  1682645064444               1             3       Learn   \n",
       "70256  1682645064444               1             3       Learn   \n",
       "70257  1682645064444               1             3      Review   \n",
       "\n",
       "       time_since_first_review  time_since_prev_review_minmax  \\\n",
       "0                    -0.590727                       0.000000   \n",
       "1                     2.573911                       0.142023   \n",
       "2                     2.575053                       0.000051   \n",
       "3                     3.010807                       0.019556   \n",
       "4                    -0.590727                       0.000000   \n",
       "...                        ...                            ...   \n",
       "70253                -0.589338                       0.000012   \n",
       "70254                -0.432017                       0.007060   \n",
       "70255                -0.590727                       0.000000   \n",
       "70256                -0.589623                       0.000050   \n",
       "70257                -0.431958                       0.007076   \n",
       "\n",
       "       time_since_prev_review_standard  time_to_answer  \n",
       "0                            -0.554948        0.903710  \n",
       "1                             6.511450       -0.222998  \n",
       "2                            -0.552399       -0.432999  \n",
       "3                             0.418059       -0.357999  \n",
       "4                            -0.554948       -0.108180  \n",
       "...                                ...             ...  \n",
       "70253                        -0.554336       -0.493681  \n",
       "70254                        -0.203664       -0.459045  \n",
       "70255                        -0.554948       -0.775818  \n",
       "70256                        -0.552482       -0.620363  \n",
       "70257                        -0.202895       -0.769955  \n",
       "\n",
       "[70258 rows x 8 columns]"
      ]
     },
     "execution_count": 2,
     "metadata": {},
     "output_type": "execute_result"
    }
   ],
   "source": [
    "df = pd.read_csv(\"review_history_with_time_features.csv\")\n",
    "df"
   ]
  },
  {
   "cell_type": "code",
   "execution_count": 3,
   "id": "4fcc4c55",
   "metadata": {},
   "outputs": [],
   "source": [
    "def load_embeddings(filename):\n",
    "  with open(filename, 'r') as f:\n",
    "    return json.load(f)\n",
    "\n",
    "# embds = load_embeddings(\"embeddings.json\")\n",
    "# If embeddings are zipped, create a cell and run: !unzip \"embeddings.json.zip\"\n",
    "embds = None"
   ]
  },
  {
   "cell_type": "markdown",
   "id": "d06d98b8",
   "metadata": {},
   "source": [
    "### Split"
   ]
  },
  {
   "attachments": {},
   "cell_type": "markdown",
   "id": "2cdd7ae6",
   "metadata": {},
   "source": [
    "Rather than splitting by review, we split by card.\n",
    "\n",
    "(i.e. so even though test_size=0.1, the test set may contain more or less than 10% of reviews)\n",
    "\n",
    "**With default 70/10/10 + seed**\n",
    "\n",
    "Total: 70,258 reviews\n",
    "\n",
    "Train: 56,417 (80%)\n",
    "\n",
    "Validation: 6,939 (9.9%)\n",
    "\n",
    "Test: 6,902 (9.8%)"
   ]
  },
  {
   "cell_type": "code",
   "execution_count": 4,
   "id": "ea3346a7",
   "metadata": {},
   "outputs": [],
   "source": [
    "def split(df, *, val_size = 0.10, test_size = 0.10):\n",
    "  unique_card_ids = df['card_id'].unique()\n",
    "\n",
    "  # Create validation split\n",
    "  train_ids, val_ids = train_test_split(unique_card_ids, test_size=val_size, random_state=12)\n",
    "\n",
    "  # Create test split\n",
    "  test_ratio = test_size / (1 - val_size) # update so split is accurate\n",
    "  train_ids, test_ids = train_test_split(train_ids, test_size=test_ratio, random_state=23)\n",
    "\n",
    "  # IDs -> dataframes\n",
    "  df_train = df[df['card_id'].isin(train_ids)]\n",
    "  df_val = df[df['card_id'].isin(val_ids)]\n",
    "  df_test = df[df['card_id'].isin(test_ids)]\n",
    "    \n",
    "  return df_train, df_val, df_test"
   ]
  },
  {
   "cell_type": "code",
   "execution_count": 5,
   "id": "57f59fd7",
   "metadata": {},
   "outputs": [
    {
     "name": "stdout",
     "output_type": "stream",
     "text": [
      "Total: 70258\n",
      "Train: 56417 (0.8029975234137038%)\n",
      "Validation: 6939 (0.09876455350280396%)\n",
      "Test: 6902 (0.09823792308349227%)\n"
     ]
    }
   ],
   "source": [
    "df_train, df_val, df_test = split(df)\n",
    "\n",
    "total = len(df)\n",
    "print(f\"Total: {total}\")\n",
    "print(f\"Train: {len(df_train)} ({len(df_train) / total}%)\")\n",
    "print(f\"Validation: {len(df_val)} ({len(df_val) / total}%)\")\n",
    "print(f\"Test: {len(df_test)} ({len(df_test) / total}%)\")"
   ]
  },
  {
   "cell_type": "markdown",
   "id": "509e5236",
   "metadata": {},
   "source": [
    "# Sequences"
   ]
  },
  {
   "attachments": {},
   "cell_type": "markdown",
   "id": "e9f00486",
   "metadata": {},
   "source": [
    "For a flashcard with reviews A, B, C, D, E we want to create sequences:\n",
    "\n",
    "**Input**: A, B         **Target**: C\n",
    "\n",
    "**Input**: A, B, C      **Target**: D\n",
    "\n",
    "**Input**: A, B, C, D   **Target**: E\n",
    "\n",
    "**Distributions**\n",
    "\n",
    "Total: 33,200 sequences\n",
    "\n",
    "Train: 26,577 (80%) -- Negative: 3535 | Positive: 23042 | % Pos: 0.8669902547315348\n",
    "\n",
    "\n",
    "Validation: 3,328 (10%) -- Negative: 422 | Positive: 2906 | % Pos: 0.8731971153846154\n",
    "\n",
    "\n",
    "Test: 3,295 (9.9%) -- Negative: 406 | Positive: 2889 | % Pos: 0.876783004552352"
   ]
  },
  {
   "cell_type": "code",
   "execution_count": 6,
   "id": "50339a2e",
   "metadata": {},
   "outputs": [
    {
     "name": "stdout",
     "output_type": "stream",
     "text": [
      "# of Features:  5\n"
     ]
    }
   ],
   "source": [
    "# Number of input features\n",
    "non_features = ['card_id', 'time_since_prev_review_minmax', 'review_type']\n",
    "\n",
    "num_review_features = len(df.drop(columns=non_features).columns)\n",
    "emb_size = len(embds[df['front'].iloc[0]]) if embds is not None else 0\n",
    "non_features = non_features if emb_size == 0 else non_features + ['front', 'back']\n",
    "\n",
    "INPUT_SIZE = num_review_features + 2 * emb_size\n",
    "print(\"# of Features: \", INPUT_SIZE)"
   ]
  },
  {
   "cell_type": "code",
   "execution_count": 7,
   "id": "1c687840",
   "metadata": {},
   "outputs": [],
   "source": [
    "def fmt_sequences(df):\n",
    "  all_sequences = []\n",
    "\n",
    "  for card_id, group in df.groupby('card_id'):\n",
    "    reviews = group.copy().reset_index(drop=True)\n",
    "    review_features = reviews.drop(columns=non_features)\n",
    "\n",
    "    # Add embedding text if relevant\n",
    "    if embds is not None:\n",
    "      front_emb = embds[reviews['front'].iloc[0]]\n",
    "      back_emb = embds[reviews['back'].iloc[0]]\n",
    "      card_embs = np.concatenate([front_emb, back_emb])\n",
    "\n",
    "      card_embs_matrix = np.repeat(card_embs[np.newaxis, :], len(reviews), axis=0)\n",
    "      seqs = np.hstack((review_features.values, card_embs_matrix))\n",
    "    \n",
    "    # We do not want the target to come after a card is forgotten\n",
    "    potential_targets = reviews[reviews['review_type'] == 'Review'].index.tolist()\n",
    "\n",
    "    for i in potential_targets:\n",
    "      current_seqs = seqs[:i] if embds is not None else review_features.values[:i]\n",
    "      # final_item_remembered = current_seqs[-1, 0] == 1\n",
    "      # if final_item_remembered is False:\n",
    "        # continue\n",
    "      target = (reviews.loc[i]['time_since_prev_review_minmax'], reviews.loc[i]['was_remembered'])\n",
    "      all_sequences.append((current_seqs, target))\n",
    "\n",
    "  return all_sequences"
   ]
  },
  {
   "cell_type": "code",
   "execution_count": 8,
   "id": "dcc89f4f",
   "metadata": {},
   "outputs": [
    {
     "name": "stdout",
     "output_type": "stream",
     "text": [
      "Total: 33200\n",
      "Train: 26577 (0.8005120481927711%)\n",
      "Validation: 3328 (0.10024096385542168%)\n",
      "Test: 3295 (0.09924698795180723%)\n"
     ]
    }
   ],
   "source": [
    "train_sequences = fmt_sequences(df_train)\n",
    "val_sequences = fmt_sequences(df_val)\n",
    "test_sequences = fmt_sequences(df_test)\n",
    "\n",
    "num_train = len(train_sequences)\n",
    "num_val = len(val_sequences)\n",
    "num_test = len(test_sequences)\n",
    "\n",
    "total = num_train + num_val + num_test\n",
    "print(f\"Total: {total}\")\n",
    "print(f\"Train: {num_train} ({num_train / total}%)\")\n",
    "print(f\"Validation: {num_val} ({num_val / total}%)\")\n",
    "print(f\"Test: {num_test} ({num_test / total}%)\")"
   ]
  },
  {
   "cell_type": "code",
   "execution_count": 9,
   "id": "ba5d7385",
   "metadata": {},
   "outputs": [
    {
     "name": "stdout",
     "output_type": "stream",
     "text": [
      "Train\n",
      "Negative: 3535 | Positive: 23042 | % Pos: 0.8669902547315348\n",
      "\n",
      "Val\n",
      "Negative: 422 | Positive: 2906 | % Pos: 0.8731971153846154\n",
      "\n",
      "Test\n",
      "Negative: 406 | Positive: 2889 | % Pos: 0.876783004552352\n"
     ]
    }
   ],
   "source": [
    "def print_pos_neg_ratios(seqs):\n",
    "    pos_sequences = [seq for seq in seqs if seq[1][1] == 1]\n",
    "    neg_sequences = [seq for seq in seqs if seq[1][1] == 0]\n",
    "    num_neg = len(neg_sequences)\n",
    "    num_pos = len(pos_sequences)\n",
    "    print(f\"Negative: {num_neg} | Positive: {num_pos} | % Pos: {num_pos / (num_neg + num_pos)}\")\n",
    "\n",
    "print(\"Train\")\n",
    "print_pos_neg_ratios(train_sequences)\n",
    "\n",
    "print(\"\\nVal\")\n",
    "print_pos_neg_ratios(val_sequences)\n",
    "\n",
    "print(\"\\nTest\")\n",
    "print_pos_neg_ratios(test_sequences)"
   ]
  },
  {
   "cell_type": "code",
   "execution_count": 10,
   "id": "727f95f1",
   "metadata": {},
   "outputs": [
    {
     "name": "stdout",
     "output_type": "stream",
     "text": [
      "Negative: 23042 | Positive: 23042 | % Pos: 0.5\n"
     ]
    }
   ],
   "source": [
    "def upsample_negative_examples(seqs):\n",
    "    pos_sequences = [seq for seq in seqs if seq[1][1] == 1]\n",
    "    neg_sequences = [seq for seq in seqs if seq[1][1] == 0]\n",
    "    \n",
    "    # Upsample negative examples\n",
    "    neg_sequences_upsampled = resample(neg_sequences, \n",
    "                                replace=True,   \n",
    "                                n_samples=len(pos_sequences),\n",
    "                                random_state=123)\n",
    "    return pos_sequences + neg_sequences_upsampled\n",
    "\n",
    "train_sequences_up = upsample_negative_examples(train_sequences)\n",
    "print_pos_neg_ratios(train_sequences_up)"
   ]
  },
  {
   "cell_type": "code",
   "execution_count": 11,
   "id": "fa466f14",
   "metadata": {},
   "outputs": [],
   "source": [
    "with open('train.pkl', 'wb') as f:\n",
    "    pickle.dump(train_sequences, f)\n",
    "with open('validation.pkl', 'wb') as f:\n",
    "    pickle.dump(val_sequences, f)\n",
    "with open('test.pkl', 'wb') as f:\n",
    "    pickle.dump(test_sequences, f)"
   ]
  }
 ],
 "metadata": {
  "accelerator": "GPU",
  "colab": {
   "collapsed_sections": [
    "Bx2HJp5Wh4K0"
   ],
   "provenance": []
  },
  "kernelspec": {
   "display_name": "Python 3 (ipykernel)",
   "language": "python",
   "name": "python3"
  },
  "language_info": {
   "codemirror_mode": {
    "name": "ipython",
    "version": 3
   },
   "file_extension": ".py",
   "mimetype": "text/x-python",
   "name": "python",
   "nbconvert_exporter": "python",
   "pygments_lexer": "ipython3",
   "version": "3.9.13"
  }
 },
 "nbformat": 4,
 "nbformat_minor": 5
}
