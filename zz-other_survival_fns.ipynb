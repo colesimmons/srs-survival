{
  "cells": [
    {
      "cell_type": "code",
      "execution_count": null,
      "id": "32685941",
      "metadata": {
        "id": "32685941"
      },
      "outputs": [],
      "source": [
        "def weibull_survival_function(λ, k, t):\n",
        "  # small constant to prevent division by zero\n",
        "  epsilon = 1e-7\n",
        "  λ = torch.clamp(λ, min=epsilon)\n",
        "  # time = torch.where(t > y, t - y, t)\n",
        "  # return torch.exp(-(time / λ) ** k)\n",
        "  return torch.exp(-(t / λ) ** k)"
      ]
    },
    {
      "cell_type": "code",
      "execution_count": null,
      "id": "h4lsAIKHt1NQ",
      "metadata": {
        "id": "h4lsAIKHt1NQ"
      },
      "outputs": [],
      "source": [
        "def exponential_survival_function(λ, t):\n",
        "    return torch.exp(-λ * t)"
      ]
    },
    {
      "cell_type": "code",
      "execution_count": null,
      "id": "IDIeP4ait1Ys",
      "metadata": {
        "id": "IDIeP4ait1Ys"
      },
      "outputs": [],
      "source": [
        "def gompertz_survival_function(λ, η, t):\n",
        "    return torch.exp(-λ / η * (torch.exp(η * t) - 1))"
      ]
    },
    {
      "cell_type": "code",
      "execution_count": null,
      "id": "VrXHVhUZt1hN",
      "metadata": {
        "id": "VrXHVhUZt1hN"
      },
      "outputs": [],
      "source": [
        "def log_logistic_survival_function(λ, p, t):\n",
        "    return 1 / (1 + (λ * t) ** p)"
      ]
    },
    {
      "cell_type": "code",
      "execution_count": null,
      "id": "eZUadtdtt1vM",
      "metadata": {
        "id": "eZUadtdtt1vM"
      },
      "outputs": [],
      "source": [
        "def lognormal_survival_function(μ, σ, t):\n",
        "    standard_normal_cdf = torch.distributions.Normal(0, 1).cdf\n",
        "    return 1 - standard_normal_cdf((torch.log(t) - μ) / σ)"
      ]
    }
  ],
  "metadata": {
    "accelerator": "GPU",
    "colab": {
      "provenance": []
    },
    "kernelspec": {
      "display_name": "Python 3",
      "name": "python3"
    },
    "language_info": {
      "codemirror_mode": {
        "name": "ipython",
        "version": 3
      },
      "file_extension": ".py",
      "mimetype": "text/x-python",
      "name": "python",
      "nbconvert_exporter": "python",
      "pygments_lexer": "ipython3",
      "version": "3.7.16"
    }
  },
  "nbformat": 4,
  "nbformat_minor": 5
}
