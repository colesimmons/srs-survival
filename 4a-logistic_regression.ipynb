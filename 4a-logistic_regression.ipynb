{
 "cells": [
  {
   "cell_type": "code",
   "execution_count": null,
   "id": "6ad914d6",
   "metadata": {
    "id": "6ad914d6"
   },
   "outputs": [],
   "source": [
    "import pandas as pd\n",
    "df = pd.read_csv(\"review_history_with_time_features.csv\")\n",
    "df"
   ]
  },
  {
   "cell_type": "code",
   "execution_count": null,
   "id": "ZvZxo-5G6U2z",
   "metadata": {
    "colab": {
     "base_uri": "https://localhost:8080/"
    },
    "id": "ZvZxo-5G6U2z",
    "outputId": "409c9cbd-64bf-456d-acde-f3f6fed92ff6",
    "scrolled": true
   },
   "outputs": [],
   "source": [
    "from sklearn.metrics import roc_auc_score\n",
    "roc_auc_score(df['was_remembered'], df['time_since_prev_review_standard'])"
   ]
  },
  {
   "cell_type": "code",
   "execution_count": null,
   "id": "Sdy2PKFQ4emn",
   "metadata": {
    "id": "Sdy2PKFQ4emn"
   },
   "outputs": [],
   "source": [
    "from sklearn.model_selection import train_test_split\n",
    "\n",
    "def split(df, test_size = 0.2):\n",
    "  unique_card_ids = df['card_id'].unique()\n",
    "\n",
    "  train_card_ids, test_card_ids = train_test_split(unique_card_ids, test_size=test_size, random_state=42)\n",
    "  df_train = df[df['card_id'].isin(train_card_ids)]\n",
    "  df_test = df[df['card_id'].isin(test_card_ids)]\n",
    "  return df_train, df_test\n",
    "\n",
    "df_train, df_test = split(df, .15)"
   ]
  },
  {
   "cell_type": "code",
   "execution_count": null,
   "id": "vp6VUSPf8wfS",
   "metadata": {
    "colab": {
     "base_uri": "https://localhost:8080/",
     "height": 75
    },
    "id": "vp6VUSPf8wfS",
    "outputId": "784a7e56-5c93-4320-cb16-c228a1e4060e"
   },
   "outputs": [],
   "source": [
    "from sklearn.linear_model import LogisticRegression\n",
    "lr = LogisticRegression()\n",
    "lr.fit(df_train[['time_since_prev_review_standard']], df_train['was_remembered'])"
   ]
  },
  {
   "cell_type": "code",
   "execution_count": null,
   "id": "oGeis9b790mT",
   "metadata": {
    "id": "oGeis9b790mT"
   },
   "outputs": [],
   "source": [
    "preds = lr.predict_proba(df_test[['time_since_prev_review_standard']])"
   ]
  },
  {
   "cell_type": "code",
   "execution_count": null,
   "id": "3SGuo8DH9-_p",
   "metadata": {
    "colab": {
     "base_uri": "https://localhost:8080/"
    },
    "id": "3SGuo8DH9-_p",
    "outputId": "e817b77e-6b51-430e-f654-6c3d56300345"
   },
   "outputs": [],
   "source": [
    "roc_auc_score(df_test[\"was_remembered\"], preds[:, 1])"
   ]
  }
 ],
 "metadata": {
  "accelerator": "GPU",
  "colab": {
   "gpuType": "V100",
   "provenance": []
  },
  "kernelspec": {
   "display_name": "Python 3 (ipykernel)",
   "language": "python",
   "name": "python3"
  },
  "language_info": {
   "codemirror_mode": {
    "name": "ipython",
    "version": 3
   },
   "file_extension": ".py",
   "mimetype": "text/x-python",
   "name": "python",
   "nbconvert_exporter": "python",
   "pygments_lexer": "ipython3",
   "version": "3.9.13"
  }
 },
 "nbformat": 4,
 "nbformat_minor": 5
}
